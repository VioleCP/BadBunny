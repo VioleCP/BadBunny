{
 "cells": [
  {
   "cell_type": "markdown",
   "id": "2b18b299",
   "metadata": {},
   "source": [
    "# El rencor en Bad Bunny\n",
    "**Violeta Carrera Pereyra**  \n",
    "  \n",
    "  Después de un breve análisis de Oasis, me interesa saber si en los discos de Bad Bunny siempre aparece el rencor hacia una ex: ¿es el resentimiento amoroso un elemento recurrente en su discografía, o una característica particular de Oasis? Para esto me propongo trabajar con una bag of words y analizar cómo cambia la frecuencia de aparición de ciertas palabras claves.\n"
   ]
  },
  {
   "cell_type": "code",
   "execution_count": 10,
   "id": "22a1dfff",
   "metadata": {},
   "outputs": [],
   "source": [
    "import pandas as pd\n",
    "import nltk\n",
    "from nltk.tokenize import word_tokenize, sent_tokenize\n",
    "from nltk.corpus import stopwords\n",
    "stop_words = set(stopwords.words('spanish'))\n"
   ]
  },
  {
   "cell_type": "code",
   "execution_count": 3,
   "id": "7a418338",
   "metadata": {
    "scrolled": false
   },
   "outputs": [
    {
     "name": "stdout",
     "output_type": "stream",
     "text": [
      "<class 'pandas.core.frame.DataFrame'>\n",
      "Index: 3 entries, X100PRE to YHLQMDLG\n",
      "Data columns (total 1 columns):\n",
      " #   Column     Non-Null Count  Dtype \n",
      "---  ------     --------------  ----- \n",
      " 0   CANCIONES  3 non-null      object\n",
      "dtypes: object(1)\n",
      "memory usage: 48.0+ bytes\n"
     ]
    }
   ],
   "source": [
    "#Cargar los datos\n",
    "discografia = pd.read_excel(\"data/BB.xlsx\")\n",
    "discografia.set_index(\"DISCO\",inplace = True)\n",
    "discografia.info()"
   ]
  },
  {
   "cell_type": "code",
   "execution_count": 4,
   "id": "bb026b88",
   "metadata": {
    "scrolled": true
   },
   "outputs": [],
   "source": [
    "#Limpieza, tokenización y lemmatización de las canciones\n",
    "discografia[\"CANCIONES\"] = discografia['CANCIONES'].str.lower()"
   ]
  },
  {
   "cell_type": "code",
   "execution_count": 5,
   "id": "f7d4d80e",
   "metadata": {
    "scrolled": true
   },
   "outputs": [
    {
     "data": {
      "text/html": [
       "<div>\n",
       "<style scoped>\n",
       "    .dataframe tbody tr th:only-of-type {\n",
       "        vertical-align: middle;\n",
       "    }\n",
       "\n",
       "    .dataframe tbody tr th {\n",
       "        vertical-align: top;\n",
       "    }\n",
       "\n",
       "    .dataframe thead th {\n",
       "        text-align: right;\n",
       "    }\n",
       "</style>\n",
       "<table border=\"1\" class=\"dataframe\">\n",
       "  <thead>\n",
       "    <tr style=\"text-align: right;\">\n",
       "      <th></th>\n",
       "      <th>CANCIONES</th>\n",
       "    </tr>\n",
       "    <tr>\n",
       "      <th>DISCO</th>\n",
       "      <th></th>\n",
       "    </tr>\n",
       "  </thead>\n",
       "  <tbody>\n",
       "    <tr>\n",
       "      <th>X100PRE</th>\n",
       "      <td>yeh, yeh\\nyeh, yeh\\nyeh, yeh\\n\\nsin ti no me v...</td>\n",
       "    </tr>\n",
       "    <tr>\n",
       "      <th>OASIS</th>\n",
       "      <td>hey, bienvenidos al oasis (al oasis)\\naprovech...</td>\n",
       "    </tr>\n",
       "    <tr>\n",
       "      <th>YHLQMDLG</th>\n",
       "      <td>yeh, yeh\\ntodavía yo te quiero, pero sé que es...</td>\n",
       "    </tr>\n",
       "  </tbody>\n",
       "</table>\n",
       "</div>"
      ],
      "text/plain": [
       "                                                  CANCIONES\n",
       "DISCO                                                      \n",
       "X100PRE   yeh, yeh\\nyeh, yeh\\nyeh, yeh\\n\\nsin ti no me v...\n",
       "OASIS     hey, bienvenidos al oasis (al oasis)\\naprovech...\n",
       "YHLQMDLG  yeh, yeh\\ntodavía yo te quiero, pero sé que es..."
      ]
     },
     "execution_count": 5,
     "metadata": {},
     "output_type": "execute_result"
    }
   ],
   "source": [
    "discografia.head()"
   ]
  },
  {
   "cell_type": "code",
   "execution_count": 6,
   "id": "d2a0140f",
   "metadata": {},
   "outputs": [],
   "source": [
    "discografia['CANCIONES'] = discografia.apply(lambda row: nltk.word_tokenize(row['CANCIONES']), axis=1)"
   ]
  },
  {
   "cell_type": "code",
   "execution_count": 7,
   "id": "58dfdd02",
   "metadata": {},
   "outputs": [
    {
     "data": {
      "text/html": [
       "<div>\n",
       "<style scoped>\n",
       "    .dataframe tbody tr th:only-of-type {\n",
       "        vertical-align: middle;\n",
       "    }\n",
       "\n",
       "    .dataframe tbody tr th {\n",
       "        vertical-align: top;\n",
       "    }\n",
       "\n",
       "    .dataframe thead th {\n",
       "        text-align: right;\n",
       "    }\n",
       "</style>\n",
       "<table border=\"1\" class=\"dataframe\">\n",
       "  <thead>\n",
       "    <tr style=\"text-align: right;\">\n",
       "      <th></th>\n",
       "      <th>CANCIONES</th>\n",
       "    </tr>\n",
       "    <tr>\n",
       "      <th>DISCO</th>\n",
       "      <th></th>\n",
       "    </tr>\n",
       "  </thead>\n",
       "  <tbody>\n",
       "    <tr>\n",
       "      <th>X100PRE</th>\n",
       "      <td>[yeh, ,, yeh, yeh, ,, yeh, yeh, ,, yeh, sin, t...</td>\n",
       "    </tr>\n",
       "    <tr>\n",
       "      <th>OASIS</th>\n",
       "      <td>[hey, ,, bienvenidos, al, oasis, (, al, oasis,...</td>\n",
       "    </tr>\n",
       "    <tr>\n",
       "      <th>YHLQMDLG</th>\n",
       "      <td>[yeh, ,, yeh, todavía, yo, te, quiero, ,, pero...</td>\n",
       "    </tr>\n",
       "  </tbody>\n",
       "</table>\n",
       "</div>"
      ],
      "text/plain": [
       "                                                  CANCIONES\n",
       "DISCO                                                      \n",
       "X100PRE   [yeh, ,, yeh, yeh, ,, yeh, yeh, ,, yeh, sin, t...\n",
       "OASIS     [hey, ,, bienvenidos, al, oasis, (, al, oasis,...\n",
       "YHLQMDLG  [yeh, ,, yeh, todavía, yo, te, quiero, ,, pero..."
      ]
     },
     "execution_count": 7,
     "metadata": {},
     "output_type": "execute_result"
    }
   ],
   "source": [
    "discografia.head()"
   ]
  },
  {
   "cell_type": "code",
   "execution_count": 18,
   "id": "bfe0bd7a",
   "metadata": {},
   "outputs": [],
   "source": [
    "discografia[\"CANCIONES\"] = [word for word in discografia.CANCIONES if not word in stopwords.words('spanish')]"
   ]
  }
 ],
 "metadata": {
  "kernelspec": {
   "display_name": "Python 3",
   "language": "python",
   "name": "python3"
  },
  "language_info": {
   "codemirror_mode": {
    "name": "ipython",
    "version": 3
   },
   "file_extension": ".py",
   "mimetype": "text/x-python",
   "name": "python",
   "nbconvert_exporter": "python",
   "pygments_lexer": "ipython3",
   "version": "3.8.8"
  }
 },
 "nbformat": 4,
 "nbformat_minor": 5
}
